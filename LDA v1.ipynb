{
 "cells": [
  {
   "cell_type": "code",
   "execution_count": 41,
   "metadata": {},
   "outputs": [],
   "source": [
    "%matplotlib inline\n",
    "\n",
    "from gensim import corpora, models, similarities\n",
    "import matplotlib.pyplot as plt\n",
    "import numpy as np\n",
    "import nltk.stem\n",
    "import sklearn.datasets\n",
    "import nltk.corpus"
   ]
  },
  {
   "cell_type": "code",
   "execution_count": 34,
   "metadata": {},
   "outputs": [
    {
     "name": "stdout",
     "output_type": "stream",
     "text": [
      "[nltk_data] Downloading package stopwords to\n",
      "[nltk_data]     /Users/florianherrengt/nltk_data...\n",
      "[nltk_data]   Package stopwords is already up-to-date!\n"
     ]
    },
    {
     "data": {
      "text/plain": [
       "True"
      ]
     },
     "execution_count": 34,
     "metadata": {},
     "output_type": "execute_result"
    }
   ],
   "source": [
    "nltk.download('stopwords')"
   ]
  },
  {
   "cell_type": "code",
   "execution_count": 35,
   "metadata": {},
   "outputs": [],
   "source": [
    "english_stemmer = nltk.stem.SnowballStemmer('english')\n",
    "stopwords = set(nltk.corpus.stopwords.words('english'))"
   ]
  },
  {
   "cell_type": "code",
   "execution_count": 4,
   "metadata": {},
   "outputs": [],
   "source": [
    "corpus = corpora.BleiCorpus('./data/ap/ap.dat', './data/ap/vocab.txt')"
   ]
  },
  {
   "cell_type": "code",
   "execution_count": 19,
   "metadata": {},
   "outputs": [
    {
     "name": "stderr",
     "output_type": "stream",
     "text": [
      "WARNING:gensim.models.ldamodel:too few updates, training might not converge; consider increasing the number of passes or iterations to improve accuracy\n"
     ]
    }
   ],
   "source": [
    "model = models.ldamodel.LdaModel(corpus, num_topics=100, id2word=corpus.id2word, alpha=1)"
   ]
  },
  {
   "cell_type": "code",
   "execution_count": 20,
   "metadata": {},
   "outputs": [
    {
     "data": {
      "text/plain": [
       "(array([   0.,    1.,    8.,    8.,   16.,   13.,   17.,   16.,   16.,\n",
       "          13.,   20.,   16.,   28.,   47.,   58.,   60.,   76.,   99.,\n",
       "         140.,  120.,  144.,  116.,  148.,  147.,  144.,  163.,  124.,\n",
       "         103.,   86.,   85.,   63.,   38.,   37.,   18.,   13.,    8.,\n",
       "           5.,    8.,    5.,    3.,    2.]),\n",
       " array([ 0,  1,  2,  3,  4,  5,  6,  7,  8,  9, 10, 11, 12, 13, 14, 15, 16,\n",
       "        17, 18, 19, 20, 21, 22, 23, 24, 25, 26, 27, 28, 29, 30, 31, 32, 33,\n",
       "        34, 35, 36, 37, 38, 39, 40, 41]),\n",
       " <a list of 41 Patch objects>)"
      ]
     },
     "execution_count": 20,
     "metadata": {},
     "output_type": "execute_result"
    },
    {
     "data": {
      "image/png": "[encoded data removed]",
      "text/plain": [
       "<matplotlib.figure.Figure at 0x10c757048>"
      ]
     },
     "metadata": {},
     "output_type": "display_data"
    }
   ],
   "source": [
    "topics = [model[c] for c in corpus]\n",
    "plt.hist([len(t) for t in topics], np.arange(42))"
   ]
  },
  {
   "cell_type": "code",
   "execution_count": 21,
   "metadata": {},
   "outputs": [
    {
     "data": {
      "text/plain": [
       "[(0, 0.029788153201794943),\n",
       " (3, 0.010619218497845152),\n",
       " (6, 0.017498571934117722),\n",
       " (11, 0.014626287689018807),\n",
       " (13, 0.011900220849690684),\n",
       " (14, 0.032619598603226413),\n",
       " (16, 0.010473744521946717),\n",
       " (23, 0.021563595191771767),\n",
       " (45, 0.043500346461482112),\n",
       " (54, 0.012169536059575941),\n",
       " (55, 0.019219037545592021),\n",
       " (60, 0.064141291168070061),\n",
       " (62, 0.029587939682106355),\n",
       " (80, 0.023465143213130639),\n",
       " (86, 0.019424890233443817),\n",
       " (91, 0.095157063048934121),\n",
       " (95, 0.011266931529297416)]"
      ]
     },
     "execution_count": 21,
     "metadata": {},
     "output_type": "execute_result"
    }
   ],
   "source": [
    "topics[0]"
   ]
  },
  {
   "cell_type": "code",
   "execution_count": 36,
   "metadata": {},
   "outputs": [
    {
     "name": "stdout",
     "output_type": "stream",
     "text": [
      "[('percent', 0.0067253531800070005), ('i', 0.0058496588447919818), ('new', 0.0057331902962852559), ('year', 0.0056369044877359279), ('retailers', 0.0052526699896986691), ('billion', 0.0048877804673529189), ('et', 0.0041738091295932317), ('tenor', 0.0040220428071789781), ('million', 0.0037673260333151693), ('first', 0.0036064562899469125), ('last', 0.0034725537577940421), ('president', 0.0034288501622891116), ('people', 0.0032478921154318312), ('states', 0.0029152252164932162), ('united', 0.002898403361951745), ('american', 0.0027928813924270744), ('years', 0.0026273367901866363), ('sales', 0.0026096247621150144), ('government', 0.002579610276084581), ('two', 0.0024847240307765187), ('officials', 0.0024260101653325364), ('porter', 0.0022081166263265822), ('home', 0.0021322438072044186), ('state', 0.0020911576499368571), ('told', 0.0020177679275838437), ('going', 0.0020069241653270136), ('national', 0.0019951963723827595), ('speeding', 0.001853126798982265), ('time', 0.0018515705030612065), ('city', 0.0018423385981699426), ('bush', 0.0018374906083773114), ('just', 0.0017973756308786589), ('get', 0.0017604494244100068), ('department', 0.0017525269582654569), ('support', 0.0017498108271547911), ('made', 0.0016574764542951841), ('three', 0.0016511636739777664), ('today', 0.001606122896159934), ('federal', 0.001591253813256729), ('market', 0.0015584251733585413), ('zambia', 0.001551348335733176), ('week', 0.0015383123962997894), ('country', 0.0015343420417899178), ('say', 0.0015138326509634517), ('york', 0.0015060215195533081), ('day', 0.0014941612399592956), ('dukakis', 0.0014825364107068696), ('back', 0.0014729117744352869), ('economy', 0.0013966951136065869), ('defense', 0.0013940512622389555), ('nations', 0.0013821152985801532), ('found', 0.0013782203982334179), ('committee', 0.0013770202627979365), ('west', 0.0013467083298148448), ('months', 0.0013355136127021796), ('news', 0.0013142581860310424), ('south', 0.001304609654182804), ('think', 0.0012895482616181557), ('four', 0.0012854711807565131), ('international', 0.0012823451219278585), ('court', 0.0012818761120513015), ('wednesday', 0.0012501201549891558), ('store', 0.0012435330019310723), ('past', 0.0012322893019305777)]\n"
     ]
    }
   ],
   "source": [
    "counts = np.zeros(100)\n",
    "for doc_top in topics:\n",
    "    for ti,_ in doc_top:\n",
    "        counts[ti] += 1\n",
    "        \n",
    "for doc_top in topics:\n",
    "    for ti,_ in doc_top:\n",
    "        counts[ti] += 1\n",
    "words = model.show_topic(counts.argmax(), 64)\n",
    "print(words)"
   ]
  },
  {
   "cell_type": "code",
   "execution_count": 44,
   "metadata": {},
   "outputs": [],
   "source": [
    "class DirectText(corpora.textcorpus.TextCorpus):\n",
    "    def get_texts(self):\n",
    "        return self.input\n",
    "    def __len__(self):\n",
    "        return len(self.input)"
   ]
  },
  {
   "cell_type": "code",
   "execution_count": 48,
   "metadata": {},
   "outputs": [
    {
     "ename": "TypeError",
     "evalue": "doc2bow expects an array of unicode tokens on input, not a single string",
     "output_type": "error",
     "traceback": [
      "\u001b[0;31m---------------------------------------------------------------------------\u001b[0m",
      "\u001b[0;31mTypeError\u001b[0m                                 Traceback (most recent call last)",
      "\u001b[0;32m<ipython-input-48-9cd8d2d50909>\u001b[0m in \u001b[0;36m<module>\u001b[0;34m()\u001b[0m\n\u001b[0;32m----> 1\u001b[0;31m \u001b[0mcorpora\u001b[0m\u001b[0;34m.\u001b[0m\u001b[0mDictionary\u001b[0m\u001b[0;34m(\u001b[0m\u001b[0;34m[\u001b[0m\u001b[0;34m'a'\u001b[0m\u001b[0;34m]\u001b[0m\u001b[0;34m)\u001b[0m\u001b[0;34m\u001b[0m\u001b[0m\n\u001b[0m",
      "\u001b[0;32m/usr/local/lib/python3.6/site-packages/gensim/corpora/dictionary.py\u001b[0m in \u001b[0;36m__init__\u001b[0;34m(self, documents, prune_at)\u001b[0m\n\u001b[1;32m     56\u001b[0m \u001b[0;34m\u001b[0m\u001b[0m\n\u001b[1;32m     57\u001b[0m         \u001b[0;32mif\u001b[0m \u001b[0mdocuments\u001b[0m \u001b[0;32mis\u001b[0m \u001b[0;32mnot\u001b[0m \u001b[0;32mNone\u001b[0m\u001b[0;34m:\u001b[0m\u001b[0;34m\u001b[0m\u001b[0m\n\u001b[0;32m---> 58\u001b[0;31m             \u001b[0mself\u001b[0m\u001b[0;34m.\u001b[0m\u001b[0madd_documents\u001b[0m\u001b[0;34m(\u001b[0m\u001b[0mdocuments\u001b[0m\u001b[0;34m,\u001b[0m \u001b[0mprune_at\u001b[0m\u001b[0;34m=\u001b[0m\u001b[0mprune_at\u001b[0m\u001b[0;34m)\u001b[0m\u001b[0;34m\u001b[0m\u001b[0m\n\u001b[0m\u001b[1;32m     59\u001b[0m \u001b[0;34m\u001b[0m\u001b[0m\n\u001b[1;32m     60\u001b[0m     \u001b[0;32mdef\u001b[0m \u001b[0m__getitem__\u001b[0m\u001b[0;34m(\u001b[0m\u001b[0mself\u001b[0m\u001b[0;34m,\u001b[0m \u001b[0mtokenid\u001b[0m\u001b[0;34m)\u001b[0m\u001b[0;34m:\u001b[0m\u001b[0;34m\u001b[0m\u001b[0m\n",
      "\u001b[0;32m/usr/local/lib/python3.6/site-packages/gensim/corpora/dictionary.py\u001b[0m in \u001b[0;36madd_documents\u001b[0;34m(self, documents, prune_at)\u001b[0m\n\u001b[1;32m    117\u001b[0m \u001b[0;34m\u001b[0m\u001b[0m\n\u001b[1;32m    118\u001b[0m             \u001b[0;31m# update Dictionary with the document\u001b[0m\u001b[0;34m\u001b[0m\u001b[0;34m\u001b[0m\u001b[0m\n\u001b[0;32m--> 119\u001b[0;31m             \u001b[0mself\u001b[0m\u001b[0;34m.\u001b[0m\u001b[0mdoc2bow\u001b[0m\u001b[0;34m(\u001b[0m\u001b[0mdocument\u001b[0m\u001b[0;34m,\u001b[0m \u001b[0mallow_update\u001b[0m\u001b[0;34m=\u001b[0m\u001b[0;32mTrue\u001b[0m\u001b[0;34m)\u001b[0m  \u001b[0;31m# ignore the result, here we only care about updating token ids\u001b[0m\u001b[0;34m\u001b[0m\u001b[0m\n\u001b[0m\u001b[1;32m    120\u001b[0m \u001b[0;34m\u001b[0m\u001b[0m\n\u001b[1;32m    121\u001b[0m         logger.info(\n",
      "\u001b[0;32m/usr/local/lib/python3.6/site-packages/gensim/corpora/dictionary.py\u001b[0m in \u001b[0;36mdoc2bow\u001b[0;34m(self, document, allow_update, return_missing)\u001b[0m\n\u001b[1;32m    140\u001b[0m         \"\"\"\n\u001b[1;32m    141\u001b[0m         \u001b[0;32mif\u001b[0m \u001b[0misinstance\u001b[0m\u001b[0;34m(\u001b[0m\u001b[0mdocument\u001b[0m\u001b[0;34m,\u001b[0m \u001b[0mstring_types\u001b[0m\u001b[0;34m)\u001b[0m\u001b[0;34m:\u001b[0m\u001b[0;34m\u001b[0m\u001b[0m\n\u001b[0;32m--> 142\u001b[0;31m             \u001b[0;32mraise\u001b[0m \u001b[0mTypeError\u001b[0m\u001b[0;34m(\u001b[0m\u001b[0;34m\"doc2bow expects an array of unicode tokens on input, not a single string\"\u001b[0m\u001b[0;34m)\u001b[0m\u001b[0;34m\u001b[0m\u001b[0m\n\u001b[0m\u001b[1;32m    143\u001b[0m \u001b[0;34m\u001b[0m\u001b[0m\n\u001b[1;32m    144\u001b[0m         \u001b[0;31m# Construct (word, frequency) mapping.\u001b[0m\u001b[0;34m\u001b[0m\u001b[0;34m\u001b[0m\u001b[0m\n",
      "\u001b[0;31mTypeError\u001b[0m: doc2bow expects an array of unicode tokens on input, not a single string"
     ]
    }
   ],
   "source": [
    "corpora.Dictionary(['a'])"
   ]
  },
  {
   "cell_type": "code",
   "execution_count": null,
   "metadata": {},
   "outputs": [],
   "source": []
  }
 ],
 "metadata": {
  "kernelspec": {
   "display_name": "Python 3",
   "language": "python",
   "name": "python3"
  },
  "language_info": {
   "codemirror_mode": {
    "name": "ipython",
    "version": 3
   },
   "file_extension": ".py",
   "mimetype": "text/x-python",
   "name": "python",
   "nbconvert_exporter": "python",
   "pygments_lexer": "ipython3",
   "version": "3.6.3"
  }
 },
 "nbformat": 4,
 "nbformat_minor": 2
}
